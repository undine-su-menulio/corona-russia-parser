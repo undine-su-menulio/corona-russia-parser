{
 "cells": [
  {
   "cell_type": "code",
   "execution_count": null,
   "metadata": {},
   "outputs": [],
   "source": [
    "import pandas as pd"
   ]
  },
  {
   "cell_type": "code",
   "execution_count": null,
   "metadata": {},
   "outputs": [],
   "source": [
    "# Парсит данные мира и оставляет данные по России\n",
    "import pandas as pd\n",
    "corona_data = pd.read_excel('https://www.ecdc.europa.eu/sites/default/files/documents/COVID-19-geographic-disbtribution-worldwide.xlsx')\n",
    "corona = pd.DataFrame (corona_data)\n",
    "corona_Russia = corona[corona['countriesAndTerritories'].str.contains ('Russia')].reset_index()\n",
    "corona_Russia = corona_Russia.drop (['popData2018', 'index', 'countryterritoryCode', 'geoId','countriesAndTerritories'], 1)\n",
    "corona_Russia = corona_Russia.drop (['deaths', 'continentExp'], 1)\n",
    "corona_Russia"
   ]
  },
  {
   "cell_type": "code",
   "execution_count": null,
   "metadata": {},
   "outputs": [],
   "source": [
    "corona_Russia.to_excel (\"Россия корона.xlsx\")"
   ]
  },
  {
   "cell_type": "code",
   "execution_count": null,
   "metadata": {},
   "outputs": [],
   "source": [
    "# Парсит данные мира и оставляет данные по России\n",
    "import pandas as pd\n",
    "corona_data = pd.read_excel('https://www.ecdc.europa.eu/sites/default/files/documents/COVID-19-geographic-disbtribution-worldwide.xlsx')\n",
    "corona = pd.DataFrame (corona_data)\n",
    "corona_Greece = corona[corona['countriesAndTerritories'].str.contains ('Greece')].reset_index()\n",
    "corona_Greece = corona_Greece.drop (['popData2018', 'index', 'countryterritoryCode', 'geoId','countriesAndTerritories'], 1)\n",
    "corona_Greece = corona_Greece.drop (['deaths', 'continentExp'], 1)\n",
    "corona_Greece"
   ]
  },
  {
   "cell_type": "code",
   "execution_count": null,
   "metadata": {},
   "outputs": [],
   "source": [
    "corona_Greece.to_excel (\"Греция корона.xlsx\")"
   ]
  }
 ],
 "metadata": {
  "kernelspec": {
   "display_name": "Python 3",
   "language": "python",
   "name": "python3"
  },
  "language_info": {
   "codemirror_mode": {
    "name": "ipython",
    "version": 3
   },
   "file_extension": ".py",
   "mimetype": "text/x-python",
   "name": "python",
   "nbconvert_exporter": "python",
   "pygments_lexer": "ipython3",
   "version": "3.7.4"
  }
 },
 "nbformat": 4,
 "nbformat_minor": 2
}
